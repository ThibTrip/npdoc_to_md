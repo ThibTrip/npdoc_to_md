{
 "cells": [
  {
   "cell_type": "code",
   "execution_count": null,
   "metadata": {
    "Collapsed": "false"
   },
   "outputs": [],
   "source": [
    "import os\n",
    "from npdoc_to_md import render_md_file, get_markdown_files_in_dir"
   ]
  },
  {
   "cell_type": "markdown",
   "metadata": {
    "Collapsed": "false"
   },
   "source": [
    "# Configuration\n",
    "\n",
    "Replace repo_path and wiki_path by their corresponding absolute paths"
   ]
  },
  {
   "cell_type": "code",
   "execution_count": null,
   "metadata": {
    "Collapsed": "false"
   },
   "outputs": [],
   "source": [
    "repo_path = 'REPO_PATH'\n",
    "wiki_path = 'WIKI_PATH'"
   ]
  },
  {
   "cell_type": "markdown",
   "metadata": {
    "Collapsed": "false"
   },
   "source": [
    "# Render the files where you want"
   ]
  },
  {
   "cell_type": "code",
   "execution_count": null,
   "metadata": {
    "Collapsed": "false"
   },
   "outputs": [],
   "source": [
    "files_and_names = get_markdown_files_in_dir('.')\n",
    "\n",
    "for file, name in files_and_names.items():\n",
    "    # place README.md in the repo root\n",
    "    if name == 'README.md':\n",
    "        destination = os.path.join(repo_path, name)\n",
    "    # place the rest in the wiki\n",
    "    else:\n",
    "        destination = os.path.join(wiki_path, name)\n",
    "    # render the file\n",
    "    render_md_file(source=file, destination=destination)"
   ]
  }
 ],
 "metadata": {
  "kernelspec": {
   "display_name": "Python 3",
   "language": "python",
   "name": "python3"
  },
  "language_info": {
   "codemirror_mode": {
    "name": "ipython",
    "version": 3
   },
   "file_extension": ".py",
   "mimetype": "text/x-python",
   "name": "python",
   "nbconvert_exporter": "python",
   "pygments_lexer": "ipython3",
   "version": "3.7.3"
  }
 },
 "nbformat": 4,
 "nbformat_minor": 4
}
